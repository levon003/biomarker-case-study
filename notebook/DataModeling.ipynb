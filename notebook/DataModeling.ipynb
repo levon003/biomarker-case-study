{
 "cells": [
  {
   "cell_type": "markdown",
   "id": "e04e4b61-0008-4438-b3d5-90608b5b16d9",
   "metadata": {},
   "source": [
    "Data Modeling\n",
    "===\n",
    "\n",
    "Prediction the targets based on patient and biomarker data."
   ]
  },
  {
   "cell_type": "code",
   "execution_count": 1,
   "id": "418c6d10-ba7b-4833-895a-4a26f82b955c",
   "metadata": {
    "tags": []
   },
   "outputs": [],
   "source": [
    "import json\n",
    "from pathlib import Path\n",
    "\n",
    "import lightgbm as lgb\n",
    "import matplotlib\n",
    "import matplotlib.pyplot as plt\n",
    "import numpy as np\n",
    "import pandas as pd\n",
    "\n",
    "import bcs.data_loader"
   ]
  },
  {
   "cell_type": "code",
   "execution_count": 2,
   "id": "ad452564-ec6a-41a2-a5f1-c1ead84e0dcf",
   "metadata": {
    "tags": []
   },
   "outputs": [],
   "source": [
    "data_dir = (Path.cwd() / \"..\" / \"data\").resolve()\n",
    "assert data_dir.exists()"
   ]
  },
  {
   "cell_type": "code",
   "execution_count": 3,
   "id": "19bd3be5-8cf2-4f65-a2bb-4701dfbd6e53",
   "metadata": {
    "tags": []
   },
   "outputs": [],
   "source": [
    "dl = bcs.data_loader.DataLoader(data_dir)"
   ]
  },
  {
   "cell_type": "code",
   "execution_count": 4,
   "id": "b5313f0d-7896-40d1-9980-8a2da3c86f2d",
   "metadata": {
    "tags": []
   },
   "outputs": [],
   "source": [
    "pdf = dl.get_patient_dataframe()"
   ]
  },
  {
   "cell_type": "code",
   "execution_count": null,
   "id": "965bcdbc-e786-4426-9ebf-5fbe5cf242d7",
   "metadata": {},
   "outputs": [],
   "source": []
  },
  {
   "cell_type": "code",
   "execution_count": null,
   "id": "be4c518a-2342-4f94-b1f1-b85c97a4bfe5",
   "metadata": {},
   "outputs": [],
   "source": []
  }
 ],
 "metadata": {
  "kernelspec": {
   "display_name": "bcs",
   "language": "python",
   "name": "bcs"
  },
  "language_info": {
   "codemirror_mode": {
    "name": "ipython",
    "version": 3
   },
   "file_extension": ".py",
   "mimetype": "text/x-python",
   "name": "python",
   "nbconvert_exporter": "python",
   "pygments_lexer": "ipython3",
   "version": "3.11.2"
  }
 },
 "nbformat": 4,
 "nbformat_minor": 5
}
