{
 "cells": [
  {
   "cell_type": "markdown",
   "id": "e04e4b61-0008-4438-b3d5-90608b5b16d9",
   "metadata": {},
   "source": [
    "Data Modeling\n",
    "===\n",
    "\n",
    "Prediction the targets based on patient and biomarker data."
   ]
  },
  {
   "cell_type": "code",
   "execution_count": 10,
   "id": "418c6d10-ba7b-4833-895a-4a26f82b955c",
   "metadata": {
    "tags": []
   },
   "outputs": [],
   "source": [
    "import json\n",
    "from pathlib import Path\n",
    "\n",
    "import lightgbm as lgb\n",
    "import matplotlib\n",
    "import matplotlib.pyplot as plt\n",
    "import numpy as np\n",
    "import pandas as pd\n",
    "import sklearn.compose\n",
    "import sklearn.ensemble\n",
    "from pandas.api.types import CategoricalDtype\n",
    "from sklearn.preprocessing import OneHotEncoder, OrdinalEncoder\n",
    "from tqdm import tqdm\n",
    "\n",
    "import bcs.data_loader\n",
    "import bcs.modeling"
   ]
  },
  {
   "cell_type": "code",
   "execution_count": 2,
   "id": "ad452564-ec6a-41a2-a5f1-c1ead84e0dcf",
   "metadata": {
    "tags": []
   },
   "outputs": [],
   "source": [
    "data_dir = (Path.cwd() / \"..\" / \"data\").resolve()\n",
    "assert data_dir.exists()\n",
    "figures_dir = (Path.cwd() / \"..\" / \"figures\").resolve()\n",
    "figures_dir.mkdir(exist_ok=True)"
   ]
  },
  {
   "cell_type": "code",
   "execution_count": 3,
   "id": "19bd3be5-8cf2-4f65-a2bb-4701dfbd6e53",
   "metadata": {
    "tags": []
   },
   "outputs": [],
   "source": [
    "dl = bcs.data_loader.DataLoader(data_dir)"
   ]
  },
  {
   "cell_type": "code",
   "execution_count": 4,
   "id": "b5313f0d-7896-40d1-9980-8a2da3c86f2d",
   "metadata": {
    "tags": []
   },
   "outputs": [],
   "source": [
    "pdf = dl.get_patient_dataframe()\n",
    "bdf = dl.get_biomarker_dataframe()\n",
    "tdf = dl.get_target_dataframe()"
   ]
  },
  {
   "cell_type": "code",
   "execution_count": 5,
   "id": "965bcdbc-e786-4426-9ebf-5fbe5cf242d7",
   "metadata": {
    "tags": []
   },
   "outputs": [
    {
     "data": {
      "text/plain": [
       "(1734, 15174)"
      ]
     },
     "execution_count": 5,
     "metadata": {},
     "output_type": "execute_result"
    }
   ],
   "source": [
    "mdf = pd.merge(tdf, pdf, how=\"left\", left_on=\"patient_id\", right_index=True)\n",
    "mdf = pd.merge(mdf, bdf, how=\"left\", left_on=\"biomarker_id\", right_index=True)\n",
    "mdf.shape"
   ]
  },
  {
   "cell_type": "code",
   "execution_count": 6,
   "id": "e92508de-4926-4937-85d0-bc12567f11af",
   "metadata": {
    "tags": []
   },
   "outputs": [],
   "source": [
    "# config = bcs.modeling.ModelingConfig()\n",
    "# model_evaluator = bcs.modeling.ModelEvaluator(config, mdf)"
   ]
  },
  {
   "cell_type": "code",
   "execution_count": 9,
   "id": "18576434-03d9-4781-9c43-7bdbe23f3cfa",
   "metadata": {
    "tags": []
   },
   "outputs": [
    {
     "data": {
      "text/plain": [
       "2"
      ]
     },
     "execution_count": 9,
     "metadata": {},
     "output_type": "execute_result"
    }
   ],
   "source": [
    "configs = []\n",
    "for biomarker_feature_action in [\"keep\", \"exclude\"]:\n",
    "    config = bcs.modeling.ModelingConfig(\n",
    "        experiment_name=f\"gbm_BM{biomarker_feature_action[0]}\",\n",
    "        biomarker_feature_action=biomarker_feature_action,\n",
    "    )\n",
    "    configs.append(config)\n",
    "len(configs)"
   ]
  },
  {
   "cell_type": "code",
   "execution_count": 11,
   "id": "7f50636b-c97e-4968-aec9-634a0da45b94",
   "metadata": {
    "tags": []
   },
   "outputs": [
    {
     "name": "stderr",
     "output_type": "stream",
     "text": [
      "100%|███████████████████████████████████████████████████████████████████████████████████████████████████████| 2/2 [06:15<00:00, 187.83s/it]\n"
     ]
    },
    {
     "data": {
      "text/plain": [
       "12"
      ]
     },
     "execution_count": 11,
     "metadata": {},
     "output_type": "execute_result"
    }
   ],
   "source": [
    "metrics_list = []\n",
    "for config in tqdm(configs):\n",
    "    model_evaluator = bcs.modeling.ModelEvaluator(config, mdf)\n",
    "    model_metrics_list = model_evaluator.train_and_evaluate()\n",
    "    metrics_list.extend(model_metrics_list)\n",
    "len(metrics_list)"
   ]
  },
  {
   "cell_type": "code",
   "execution_count": 12,
   "id": "c938f767-0bd3-4755-86c9-5f1d8d900cd1",
   "metadata": {
    "tags": []
   },
   "outputs": [
    {
     "data": {
      "text/html": [
       "<div>\n",
       "<style scoped>\n",
       "    .dataframe tbody tr th:only-of-type {\n",
       "        vertical-align: middle;\n",
       "    }\n",
       "\n",
       "    .dataframe tbody tr th {\n",
       "        vertical-align: top;\n",
       "    }\n",
       "\n",
       "    .dataframe thead th {\n",
       "        text-align: right;\n",
       "    }\n",
       "</style>\n",
       "<table border=\"1\" class=\"dataframe\">\n",
       "  <thead>\n",
       "    <tr style=\"text-align: right;\">\n",
       "      <th></th>\n",
       "      <th>experiment_name</th>\n",
       "      <th>institution_name</th>\n",
       "      <th>n</th>\n",
       "      <th>n_pos</th>\n",
       "      <th>n_pos_pred</th>\n",
       "      <th>acc</th>\n",
       "      <th>f1_pos</th>\n",
       "      <th>roc_auc</th>\n",
       "    </tr>\n",
       "  </thead>\n",
       "  <tbody>\n",
       "    <tr>\n",
       "      <th>0</th>\n",
       "      <td>gbm_BMk</td>\n",
       "      <td>BioLab, Inc.</td>\n",
       "      <td>696</td>\n",
       "      <td>155</td>\n",
       "      <td>106</td>\n",
       "      <td>0.889368</td>\n",
       "      <td>0.704981</td>\n",
       "      <td>0.946741</td>\n",
       "    </tr>\n",
       "    <tr>\n",
       "      <th>1</th>\n",
       "      <td>gbm_BMk</td>\n",
       "      <td>Goodfellow Research Institute</td>\n",
       "      <td>123</td>\n",
       "      <td>34</td>\n",
       "      <td>30</td>\n",
       "      <td>0.886179</td>\n",
       "      <td>0.781250</td>\n",
       "      <td>0.896563</td>\n",
       "    </tr>\n",
       "    <tr>\n",
       "      <th>2</th>\n",
       "      <td>gbm_BMk</td>\n",
       "      <td>Johnson &amp; Bloom Hospitals</td>\n",
       "      <td>56</td>\n",
       "      <td>10</td>\n",
       "      <td>5</td>\n",
       "      <td>0.910714</td>\n",
       "      <td>0.666667</td>\n",
       "      <td>0.952174</td>\n",
       "    </tr>\n",
       "    <tr>\n",
       "      <th>3</th>\n",
       "      <td>gbm_BMk</td>\n",
       "      <td>Montague Hospital</td>\n",
       "      <td>330</td>\n",
       "      <td>78</td>\n",
       "      <td>67</td>\n",
       "      <td>0.918182</td>\n",
       "      <td>0.813793</td>\n",
       "      <td>0.949532</td>\n",
       "    </tr>\n",
       "    <tr>\n",
       "      <th>4</th>\n",
       "      <td>gbm_BMk</td>\n",
       "      <td>Saint Penelope Medical Center</td>\n",
       "      <td>231</td>\n",
       "      <td>48</td>\n",
       "      <td>34</td>\n",
       "      <td>0.922078</td>\n",
       "      <td>0.780488</td>\n",
       "      <td>0.945128</td>\n",
       "    </tr>\n",
       "    <tr>\n",
       "      <th>5</th>\n",
       "      <td>gbm_BMk</td>\n",
       "      <td>University Hospital System</td>\n",
       "      <td>298</td>\n",
       "      <td>56</td>\n",
       "      <td>42</td>\n",
       "      <td>0.906040</td>\n",
       "      <td>0.714286</td>\n",
       "      <td>0.918167</td>\n",
       "    </tr>\n",
       "    <tr>\n",
       "      <th>6</th>\n",
       "      <td>gbm_BMe</td>\n",
       "      <td>BioLab, Inc.</td>\n",
       "      <td>696</td>\n",
       "      <td>155</td>\n",
       "      <td>82</td>\n",
       "      <td>0.728448</td>\n",
       "      <td>0.202532</td>\n",
       "      <td>0.590007</td>\n",
       "    </tr>\n",
       "    <tr>\n",
       "      <th>7</th>\n",
       "      <td>gbm_BMe</td>\n",
       "      <td>Goodfellow Research Institute</td>\n",
       "      <td>123</td>\n",
       "      <td>34</td>\n",
       "      <td>50</td>\n",
       "      <td>0.707317</td>\n",
       "      <td>0.571429</td>\n",
       "      <td>0.744878</td>\n",
       "    </tr>\n",
       "    <tr>\n",
       "      <th>8</th>\n",
       "      <td>gbm_BMe</td>\n",
       "      <td>Johnson &amp; Bloom Hospitals</td>\n",
       "      <td>56</td>\n",
       "      <td>10</td>\n",
       "      <td>7</td>\n",
       "      <td>0.803571</td>\n",
       "      <td>0.352941</td>\n",
       "      <td>0.478261</td>\n",
       "    </tr>\n",
       "    <tr>\n",
       "      <th>9</th>\n",
       "      <td>gbm_BMe</td>\n",
       "      <td>Montague Hospital</td>\n",
       "      <td>330</td>\n",
       "      <td>78</td>\n",
       "      <td>18</td>\n",
       "      <td>0.739394</td>\n",
       "      <td>0.104167</td>\n",
       "      <td>0.603454</td>\n",
       "    </tr>\n",
       "    <tr>\n",
       "      <th>10</th>\n",
       "      <td>gbm_BMe</td>\n",
       "      <td>Saint Penelope Medical Center</td>\n",
       "      <td>231</td>\n",
       "      <td>48</td>\n",
       "      <td>21</td>\n",
       "      <td>0.761905</td>\n",
       "      <td>0.202899</td>\n",
       "      <td>0.641052</td>\n",
       "    </tr>\n",
       "    <tr>\n",
       "      <th>11</th>\n",
       "      <td>gbm_BMe</td>\n",
       "      <td>University Hospital System</td>\n",
       "      <td>298</td>\n",
       "      <td>56</td>\n",
       "      <td>42</td>\n",
       "      <td>0.738255</td>\n",
       "      <td>0.204082</td>\n",
       "      <td>0.574196</td>\n",
       "    </tr>\n",
       "  </tbody>\n",
       "</table>\n",
       "</div>"
      ],
      "text/plain": [
       "   experiment_name               institution_name    n  n_pos  n_pos_pred  \\\n",
       "0          gbm_BMk                   BioLab, Inc.  696    155         106   \n",
       "1          gbm_BMk  Goodfellow Research Institute  123     34          30   \n",
       "2          gbm_BMk      Johnson & Bloom Hospitals   56     10           5   \n",
       "3          gbm_BMk              Montague Hospital  330     78          67   \n",
       "4          gbm_BMk  Saint Penelope Medical Center  231     48          34   \n",
       "5          gbm_BMk     University Hospital System  298     56          42   \n",
       "6          gbm_BMe                   BioLab, Inc.  696    155          82   \n",
       "7          gbm_BMe  Goodfellow Research Institute  123     34          50   \n",
       "8          gbm_BMe      Johnson & Bloom Hospitals   56     10           7   \n",
       "9          gbm_BMe              Montague Hospital  330     78          18   \n",
       "10         gbm_BMe  Saint Penelope Medical Center  231     48          21   \n",
       "11         gbm_BMe     University Hospital System  298     56          42   \n",
       "\n",
       "         acc    f1_pos   roc_auc  \n",
       "0   0.889368  0.704981  0.946741  \n",
       "1   0.886179  0.781250  0.896563  \n",
       "2   0.910714  0.666667  0.952174  \n",
       "3   0.918182  0.813793  0.949532  \n",
       "4   0.922078  0.780488  0.945128  \n",
       "5   0.906040  0.714286  0.918167  \n",
       "6   0.728448  0.202532  0.590007  \n",
       "7   0.707317  0.571429  0.744878  \n",
       "8   0.803571  0.352941  0.478261  \n",
       "9   0.739394  0.104167  0.603454  \n",
       "10  0.761905  0.202899  0.641052  \n",
       "11  0.738255  0.204082  0.574196  "
      ]
     },
     "execution_count": 12,
     "metadata": {},
     "output_type": "execute_result"
    }
   ],
   "source": [
    "metrics = pd.DataFrame(metrics_list)\n",
    "metrics"
   ]
  },
  {
   "cell_type": "code",
   "execution_count": null,
   "id": "b9accbb6-0301-4be4-b8c5-f9249cb90178",
   "metadata": {
    "tags": []
   },
   "outputs": [],
   "source": []
  },
  {
   "cell_type": "code",
   "execution_count": 10,
   "id": "be4c518a-2342-4f94-b1f1-b85c97a4bfe5",
   "metadata": {
    "tags": []
   },
   "outputs": [
    {
     "name": "stdout",
     "output_type": "stream",
     "text": [
      "15169 feature columns before removal\n",
      "8 feature columns after removal\n"
     ]
    }
   ],
   "source": [
    "feature_columns = [\n",
    "    col for col in mdf.columns if col.startswith(\"BM\") or col.startswith(\"status_\") or col.startswith(\"demographics_\")\n",
    "]\n",
    "print(f\"{len(feature_columns)} feature columns before removal\")\n",
    "# remove manually-excluded columns\n",
    "if len(config.excluded_columns) > 0:\n",
    "    feature_columns = [col for col in feature_columns if col not in config.excluded_columns]\n",
    "if config.biomarker_feature_action == \"exclude\":\n",
    "    feature_columns = [col for col in feature_columns if not col.startswith(\"BM\")]\n",
    "print(f\"{len(feature_columns)} feature columns after removal\")"
   ]
  },
  {
   "cell_type": "code",
   "execution_count": 75,
   "id": "139a9b4d-2c4a-42db-a73c-39064be23e5b",
   "metadata": {
    "tags": []
   },
   "outputs": [],
   "source": [
    "sdf = mdf[feature_columns + [\"target_label\", \"institution_name\"]].copy()"
   ]
  },
  {
   "cell_type": "code",
   "execution_count": 76,
   "id": "b4a23553-ac13-443c-a40d-4eb76868c834",
   "metadata": {
    "tags": []
   },
   "outputs": [
    {
     "data": {
      "text/plain": [
       "['demographics_gender',\n",
       " 'status_disease_sub_type',\n",
       " 'status_smoking_status',\n",
       " 'demographics_race']"
      ]
     },
     "execution_count": 76,
     "metadata": {},
     "output_type": "execute_result"
    }
   ],
   "source": [
    "categorical_columns = list(sdf[feature_columns].select_dtypes(include=\"object\").columns)\n",
    "\n",
    "for categorical_column in categorical_columns:\n",
    "    if categorical_column == \"status_disease_sub_type\":  # config.is_disease_sub_type_ordered\n",
    "        ordered_cat = CategoricalDtype(sorted(sdf[categorical_column].unique()), ordered=True)\n",
    "        sdf[categorical_column] = sdf[categorical_column].astype(ordered_cat)\n",
    "    else:\n",
    "        sdf[categorical_column] = sdf[categorical_column].astype(\"category\")\n",
    "categorical_columns"
   ]
  },
  {
   "cell_type": "code",
   "execution_count": null,
   "id": "b7513a18-50e3-4b35-9a4a-dbc22a7ae1c1",
   "metadata": {
    "tags": []
   },
   "outputs": [],
   "source": []
  },
  {
   "cell_type": "code",
   "execution_count": 44,
   "id": "98b1d0af-c602-4ce8-83b7-3d48a35a3dd3",
   "metadata": {
    "tags": []
   },
   "outputs": [],
   "source": [
    "one_hot_encoder = sklearn.compose.make_column_transformer(\n",
    "    (\n",
    "        OneHotEncoder(sparse_output=False, handle_unknown=\"ignore\"),\n",
    "        sklearn.compose.make_column_selector(dtype_include=\"category\"),\n",
    "    ),\n",
    "    remainder=\"passthrough\",\n",
    ")"
   ]
  },
  {
   "cell_type": "code",
   "execution_count": 48,
   "id": "e6647e33-f0a6-45eb-8c18-b52eb1bc7001",
   "metadata": {
    "tags": []
   },
   "outputs": [
    {
     "data": {
      "text/plain": [
       "((1734, 236), (1734, 9))"
      ]
     },
     "execution_count": 48,
     "metadata": {},
     "output_type": "execute_result"
    }
   ],
   "source": [
    "one_hot_encoder.fit_transform(mdf[feature_columns]).shape, mdf[feature_columns].shape"
   ]
  },
  {
   "cell_type": "code",
   "execution_count": 77,
   "id": "587bbbec-7d2c-4c60-816e-2d86b3f3762e",
   "metadata": {
    "tags": []
   },
   "outputs": [],
   "source": [
    "# see: https://scikit-learn.org/stable/auto_examples/ensemble/plot_gradient_boosting_categorical.html\n",
    "ordinal_encoder = sklearn.compose.make_column_transformer(\n",
    "    (\n",
    "        OrdinalEncoder(handle_unknown=\"use_encoded_value\", unknown_value=np.nan),\n",
    "        sklearn.compose.make_column_selector(dtype_include=\"category\"),\n",
    "    ),\n",
    "    remainder=\"passthrough\",  # keep non-categorical columns after transformation\n",
    "    verbose_feature_names_out=False,  # keep original feature names\n",
    ")"
   ]
  },
  {
   "cell_type": "code",
   "execution_count": 78,
   "id": "5a521dd6-95b3-4659-90a4-23e6c88e589f",
   "metadata": {
    "tags": []
   },
   "outputs": [],
   "source": [
    "clf = sklearn.ensemble.HistGradientBoostingClassifier(\n",
    "    categorical_features=categorical_columns,\n",
    ")\n",
    "# clf.fit(mdf[feature_columns], mdf.target_label)"
   ]
  },
  {
   "cell_type": "code",
   "execution_count": null,
   "id": "98e9447c-6614-4ce1-8350-3684fa80e174",
   "metadata": {
    "tags": []
   },
   "outputs": [],
   "source": []
  },
  {
   "cell_type": "code",
   "execution_count": 79,
   "id": "acc88101-9426-4dc1-9512-14e8a79df10c",
   "metadata": {
    "tags": []
   },
   "outputs": [
    {
     "data": {
      "text/plain": [
       "array(['demographics_gender', 'status_disease_sub_type',\n",
       "       'status_smoking_status', 'demographics_race', 'demographics_age',\n",
       "       'status_comorbidity_index', 'status_cohort_qualifier',\n",
       "       'status_months_since_diagnosis'], dtype=object)"
      ]
     },
     "execution_count": 79,
     "metadata": {},
     "output_type": "execute_result"
    }
   ],
   "source": [
    "X = ordinal_encoder.fit_transform(sdf[feature_columns])\n",
    "ordinal_encoder.get_feature_names_out()"
   ]
  },
  {
   "cell_type": "code",
   "execution_count": 80,
   "id": "ca3b6178-7969-40a0-af34-8c94fa1be037",
   "metadata": {
    "tags": []
   },
   "outputs": [
    {
     "data": {
      "text/plain": [
       "demographics_gender              object\n",
       "status_disease_sub_type          object\n",
       "status_smoking_status            object\n",
       "demographics_race                object\n",
       "demographics_age                 object\n",
       "status_comorbidity_index         object\n",
       "status_cohort_qualifier          object\n",
       "status_months_since_diagnosis    object\n",
       "dtype: object"
      ]
     },
     "execution_count": 80,
     "metadata": {},
     "output_type": "execute_result"
    }
   ],
   "source": [
    "X = pd.DataFrame(X, index=sdf.index, columns=ordinal_encoder.get_feature_names_out())\n",
    "X.dtypes"
   ]
  },
  {
   "cell_type": "code",
   "execution_count": null,
   "id": "b076fb86-5520-4aa7-aecb-4db37a08618a",
   "metadata": {
    "tags": []
   },
   "outputs": [],
   "source": []
  },
  {
   "cell_type": "code",
   "execution_count": null,
   "id": "b4ddcab7-7874-4df1-b2d8-0ec9a4507b6a",
   "metadata": {
    "tags": []
   },
   "outputs": [],
   "source": []
  },
  {
   "cell_type": "code",
   "execution_count": 114,
   "id": "9dec9a90-5f76-4168-9532-e95a814c410a",
   "metadata": {
    "tags": []
   },
   "outputs": [
    {
     "data": {
      "text/plain": [
       "6"
      ]
     },
     "execution_count": 114,
     "metadata": {},
     "output_type": "execute_result"
    }
   ],
   "source": [
    "metrics_list = []\n",
    "for iname, valid_df in sdf.groupby(\"institution_name\"):\n",
    "    ordinal_encoder = sklearn.compose.make_column_transformer(\n",
    "        (\n",
    "            OrdinalEncoder(handle_unknown=\"use_encoded_value\", unknown_value=np.nan),\n",
    "            sklearn.compose.make_column_selector(dtype_include=\"category\"),\n",
    "        ),\n",
    "        remainder=\"passthrough\",  # keep non-categorical columns after transformation\n",
    "        verbose_feature_names_out=False,  # keep original feature names\n",
    "    )\n",
    "    train_df = sdf[~sdf.index.isin(valid_df.index)]\n",
    "    assert len(train_df) + len(valid_df) == len(sdf)\n",
    "    X_train = ordinal_encoder.fit_transform(train_df[feature_columns])\n",
    "    X_valid = ordinal_encoder.transform(valid_df[feature_columns])\n",
    "\n",
    "    X_train = pd.DataFrame(X_train, index=train_df.index, columns=ordinal_encoder.get_feature_names_out())\n",
    "    X_valid = pd.DataFrame(X_valid, index=valid_df.index, columns=ordinal_encoder.get_feature_names_out())\n",
    "\n",
    "    clf = sklearn.ensemble.HistGradientBoostingClassifier(\n",
    "        categorical_features=categorical_columns,\n",
    "    )\n",
    "    clf.fit(X_train, train_df.target_label)\n",
    "\n",
    "    y_pred = clf.predict(X_valid)\n",
    "    y_score = clf.predict_proba(X_valid)[:, 1]\n",
    "    y_true = valid_df.target_label\n",
    "\n",
    "    metrics = {\n",
    "        \"institution_name\": iname,\n",
    "        \"n\": len(y_true),\n",
    "        \"n_pos\": y_true.sum(),\n",
    "        \"n_pos_pred\": y_pred.sum(),\n",
    "        \"acc\": (y_pred == y_true).sum() / len(y_true),\n",
    "        \"f1_pos\": sklearn.metrics.f1_score(y_true, y_pred),\n",
    "        \"roc_auc\": sklearn.metrics.roc_auc_score(y_true, y_score),\n",
    "    }\n",
    "    metrics_list.append(metrics)\n",
    "len(metrics_list)"
   ]
  },
  {
   "cell_type": "code",
   "execution_count": null,
   "id": "feae2030-5df6-44d6-a47f-f0cf2742ad1e",
   "metadata": {
    "tags": []
   },
   "outputs": [],
   "source": []
  },
  {
   "cell_type": "code",
   "execution_count": 115,
   "id": "76c81221-963c-4f27-8851-72a56ec522dd",
   "metadata": {
    "tags": []
   },
   "outputs": [
    {
     "data": {
      "text/html": [
       "<div>\n",
       "<style scoped>\n",
       "    .dataframe tbody tr th:only-of-type {\n",
       "        vertical-align: middle;\n",
       "    }\n",
       "\n",
       "    .dataframe tbody tr th {\n",
       "        vertical-align: top;\n",
       "    }\n",
       "\n",
       "    .dataframe thead th {\n",
       "        text-align: right;\n",
       "    }\n",
       "</style>\n",
       "<table border=\"1\" class=\"dataframe\">\n",
       "  <thead>\n",
       "    <tr style=\"text-align: right;\">\n",
       "      <th></th>\n",
       "      <th>institution_name</th>\n",
       "      <th>n</th>\n",
       "      <th>n_pos</th>\n",
       "      <th>n_pos_pred</th>\n",
       "      <th>acc</th>\n",
       "      <th>f1_pos</th>\n",
       "      <th>roc_auc</th>\n",
       "    </tr>\n",
       "  </thead>\n",
       "  <tbody>\n",
       "    <tr>\n",
       "      <th>0</th>\n",
       "      <td>BioLab, Inc.</td>\n",
       "      <td>696</td>\n",
       "      <td>155</td>\n",
       "      <td>77</td>\n",
       "      <td>0.744253</td>\n",
       "      <td>0.232759</td>\n",
       "      <td>0.595063</td>\n",
       "    </tr>\n",
       "    <tr>\n",
       "      <th>1</th>\n",
       "      <td>Goodfellow Research Institute</td>\n",
       "      <td>123</td>\n",
       "      <td>34</td>\n",
       "      <td>48</td>\n",
       "      <td>0.723577</td>\n",
       "      <td>0.585366</td>\n",
       "      <td>0.751157</td>\n",
       "    </tr>\n",
       "    <tr>\n",
       "      <th>2</th>\n",
       "      <td>Johnson &amp; Bloom Hospitals</td>\n",
       "      <td>56</td>\n",
       "      <td>10</td>\n",
       "      <td>6</td>\n",
       "      <td>0.785714</td>\n",
       "      <td>0.250000</td>\n",
       "      <td>0.504348</td>\n",
       "    </tr>\n",
       "    <tr>\n",
       "      <th>3</th>\n",
       "      <td>Montague Hospital</td>\n",
       "      <td>330</td>\n",
       "      <td>78</td>\n",
       "      <td>20</td>\n",
       "      <td>0.745455</td>\n",
       "      <td>0.142857</td>\n",
       "      <td>0.621108</td>\n",
       "    </tr>\n",
       "    <tr>\n",
       "      <th>4</th>\n",
       "      <td>Saint Penelope Medical Center</td>\n",
       "      <td>231</td>\n",
       "      <td>48</td>\n",
       "      <td>18</td>\n",
       "      <td>0.783550</td>\n",
       "      <td>0.242424</td>\n",
       "      <td>0.637523</td>\n",
       "    </tr>\n",
       "    <tr>\n",
       "      <th>5</th>\n",
       "      <td>University Hospital System</td>\n",
       "      <td>298</td>\n",
       "      <td>56</td>\n",
       "      <td>37</td>\n",
       "      <td>0.755034</td>\n",
       "      <td>0.215054</td>\n",
       "      <td>0.556117</td>\n",
       "    </tr>\n",
       "  </tbody>\n",
       "</table>\n",
       "</div>"
      ],
      "text/plain": [
       "                institution_name    n  n_pos  n_pos_pred       acc    f1_pos  \\\n",
       "0                   BioLab, Inc.  696    155          77  0.744253  0.232759   \n",
       "1  Goodfellow Research Institute  123     34          48  0.723577  0.585366   \n",
       "2      Johnson & Bloom Hospitals   56     10           6  0.785714  0.250000   \n",
       "3              Montague Hospital  330     78          20  0.745455  0.142857   \n",
       "4  Saint Penelope Medical Center  231     48          18  0.783550  0.242424   \n",
       "5     University Hospital System  298     56          37  0.755034  0.215054   \n",
       "\n",
       "    roc_auc  \n",
       "0  0.595063  \n",
       "1  0.751157  \n",
       "2  0.504348  \n",
       "3  0.621108  \n",
       "4  0.637523  \n",
       "5  0.556117  "
      ]
     },
     "execution_count": 115,
     "metadata": {},
     "output_type": "execute_result"
    }
   ],
   "source": [
    "metrics_df = pd.DataFrame(metrics_list)\n",
    "metrics_df"
   ]
  },
  {
   "cell_type": "code",
   "execution_count": 116,
   "id": "ad951d3b-c27b-40ee-b30f-f78143610424",
   "metadata": {
    "tags": []
   },
   "outputs": [
    {
     "data": {
      "text/plain": [
       "n             289.000000\n",
       "n_pos          63.500000\n",
       "n_pos_pred     34.333333\n",
       "acc             0.756264\n",
       "f1_pos          0.278077\n",
       "roc_auc         0.610886\n",
       "dtype: float64"
      ]
     },
     "execution_count": 116,
     "metadata": {},
     "output_type": "execute_result"
    }
   ],
   "source": [
    "metrics_df.set_index(\"institution_name\").mean(axis=0)"
   ]
  },
  {
   "cell_type": "code",
   "execution_count": null,
   "id": "6bbeb214-d526-4ca4-8c3e-ec2ec7575990",
   "metadata": {},
   "outputs": [],
   "source": []
  },
  {
   "cell_type": "code",
   "execution_count": null,
   "id": "d411662f-3416-49b1-ae18-936a5e4ec5e9",
   "metadata": {},
   "outputs": [],
   "source": []
  }
 ],
 "metadata": {
  "kernelspec": {
   "display_name": "bcs",
   "language": "python",
   "name": "bcs"
  },
  "language_info": {
   "codemirror_mode": {
    "name": "ipython",
    "version": 3
   },
   "file_extension": ".py",
   "mimetype": "text/x-python",
   "name": "python",
   "nbconvert_exporter": "python",
   "pygments_lexer": "ipython3",
   "version": "3.11.2"
  }
 },
 "nbformat": 4,
 "nbformat_minor": 5
}
